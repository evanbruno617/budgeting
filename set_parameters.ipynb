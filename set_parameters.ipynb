{
 "cells": [
  {
   "cell_type": "code",
   "execution_count": 24,
   "id": "296fd0f9",
   "metadata": {},
   "outputs": [],
   "source": [
    "import pandas as pd\n",
    "import numpy as np"
   ]
  },
  {
   "cell_type": "code",
   "execution_count": 2,
   "id": "694b1442",
   "metadata": {},
   "outputs": [
    {
     "name": "stdout",
     "output_type": "stream",
     "text": [
      "What is your name?Evan\n",
      "What is your total balance of your bank account?700\n",
      "What is your rent (Including Utilities)900\n",
      "How much do you spend on Gas per week20\n",
      "How often do you get paid? For weekly input '1' for biweekly input '2'2\n",
      "How much do you spend a month on supplies and food?350\n",
      "How much do you want to spend on going out and entertainment per week?25\n",
      "How much do you spend on other fixed expenses (Subscriptions)? Seperate your answer with commas with the following notation NO SPACES when describing the cost ex'AppleMusic 10, ... $$, ... $$'AppleMusic 10,Wall 7,Excel 7,Trading 50\n",
      "Do you want to start investing in retirement? (YES/NO)YES\n",
      "How much do you want to allocate to investments (Stocks, Bonds, etc) per week? % If not sure answer with 'Not sure'50\n",
      "Do you have any business ventures you need to fund? (YES/NO)YES\n",
      "Other Sources of money per month0\n"
     ]
    }
   ],
   "source": [
    "name = input(\"What is your name?\")\n",
    "account = input(\"What is your total balance of your bank account?\")\n",
    "rent = input(\"What is your rent (Including Utilities)\")\n",
    "gas = input(\"How much do you spend on Gas per week\")\n",
    "pay_period = input(\"How often do you get paid? For weekly input '1' for biweekly input '2'\")\n",
    "supply_food = input(\"How much do you spend a month on supplies and food?\")\n",
    "etc = input(\"How much do you want to spend on going out and entertainment per week?\")\n",
    "other_exp = input(\"How much do you spend on other fixed expenses (Subscriptions)? Seperate your answer with commas with the following notation NO SPACES when describing the cost ex'AppleMusic 10, ... $$, ... $$'\")\n",
    "retirement = input(\"Do you want to start investing in retirement? (YES/NO)\")\n",
    "investments = input(\"How much do you want to allocate to investments (Stocks, Bonds, etc) per week? % If not sure answer with 'Not sure'\")\n",
    "business = input(\"Do you have any business ventures you need to fund? (YES/NO)\")"
   ]
  },
  {
   "cell_type": "code",
   "execution_count": 4,
   "id": "35d82889",
   "metadata": {},
   "outputs": [],
   "source": [
    "\n",
    "period = int(pay_period)\n",
    "\n",
    "if period == 1:\n",
    "    period = 4\n",
    "\n",
    "\n",
    "rent_per_week = int(rent) / period\n",
    "gas = int(gas) * period\n",
    "s_p_weekly = int(supply_food) / period\n",
    "entertainment = int(etc) * period\n",
    "\n",
    "\n",
    "exp = []\n",
    "other_expenses = {}\n",
    "for i in other_exp.split(\",\"):\n",
    "    cost = i.split(\" \")\n",
    "    other_expenses[cost[0]] = cost[1]\n",
    "    exp.append(cost[1]) \n",
    "    \n",
    "cost_exp = 0\n",
    "for i in range(len(exp)):\n",
    "    cost_exp = cost_exp + int(exp[i])\n",
    "cost_exp = cost_exp / period"
   ]
  },
  {
   "cell_type": "code",
   "execution_count": 5,
   "id": "4fdba0fc",
   "metadata": {},
   "outputs": [
    {
     "name": "stdout",
     "output_type": "stream",
     "text": [
      "You spend 37.0 on monthly Payments/Subscriptions\n"
     ]
    }
   ],
   "source": [
    "print(f\"You spend {cost_exp} on monthly Payments/Subscriptions\")"
   ]
  },
  {
   "cell_type": "code",
   "execution_count": 57,
   "id": "dd99922a",
   "metadata": {},
   "outputs": [
    {
     "data": {
      "text/plain": [
       "18.5"
      ]
     },
     "execution_count": 57,
     "metadata": {},
     "output_type": "execute_result"
    }
   ],
   "source": [
    "cost_exp / 2"
   ]
  },
  {
   "cell_type": "code",
   "execution_count": 15,
   "id": "d32189a8",
   "metadata": {},
   "outputs": [
    {
     "name": "stdout",
     "output_type": "stream",
     "text": [
      "How much do you want to have for your emergency Fund?500\n",
      "How much of your spare money per week do you want to allocate to it % before everything else10\n",
      "How much of your spare money do you want to contribute to retiring? Answer in %5\n",
      "How much of your spare money do you want to contribute to Investing into your business? Answer in %30\n",
      "How much of your spare money do you want to contribute to spend splurging on yourself?5\n",
      "How much do you want to allocate to investments (Stocks, Bonds, etc) per week? %50\n"
     ]
    }
   ],
   "source": [
    "emergency = input(\"How much do you want to have for your emergency Fund?\")\n",
    "\n",
    "emergency_allocation = input(\"How much of your spare money per week do you want to allocate to it % before everything else\")\n",
    "\n",
    "if retirement == \"YES\":\n",
    "    amount_retire = input(\"How much of your spare money do you want to contribute to retiring? Answer in %\")\n",
    "if business == \"YES\":\n",
    "    bus_invest = input(\"How much of your spare money do you want to contribute to Investing into your business? Answer in %\")\n",
    "personal = input(\"How much of your spare money do you want to contribute to spend splurging on yourself?\")\n",
    "\n",
    "investments = input(\"How much do you want to allocate to investments (Stocks, Bonds, etc) per week? %\")\n",
    "                    "
   ]
  },
  {
   "cell_type": "code",
   "execution_count": 14,
   "id": "58cff95e",
   "metadata": {},
   "outputs": [
    {
     "name": "stdout",
     "output_type": "stream",
     "text": [
      "How much do you want to allocate to savings10\n"
     ]
    }
   ],
   "source": [
    "savings = input(\"How much do you want to allocate to savings\")"
   ]
  },
  {
   "cell_type": "code",
   "execution_count": 16,
   "id": "03987135",
   "metadata": {},
   "outputs": [],
   "source": [
    "savings = float(savings) * 0.01\n",
    "emergency_allocation = float(emergency_allocation) * 0.01\n",
    "amount_retire = float(amount_retire) * 0.01\n",
    "bus_invest = float(bus_invest) * 0.01"
   ]
  },
  {
   "cell_type": "code",
   "execution_count": 45,
   "id": "a92635ed",
   "metadata": {},
   "outputs": [],
   "source": [
    "investments = float(investments) * 0.01"
   ]
  },
  {
   "cell_type": "code",
   "execution_count": 48,
   "id": "33eb9013",
   "metadata": {},
   "outputs": [],
   "source": [
    "personal = float(personal) * 0.01"
   ]
  },
  {
   "cell_type": "code",
   "execution_count": 35,
   "id": "edbf131e",
   "metadata": {},
   "outputs": [],
   "source": [
    "if int(account) < int(emergency):\n",
    "    print(\"True\")\n",
    "    emergency_fund = account\n",
    "else:\n",
    "    emergency_fund = emergency"
   ]
  },
  {
   "cell_type": "code",
   "execution_count": 51,
   "id": "eb75b9d3",
   "metadata": {},
   "outputs": [
    {
     "data": {
      "text/html": [
       "<div>\n",
       "<style scoped>\n",
       "    .dataframe tbody tr th:only-of-type {\n",
       "        vertical-align: middle;\n",
       "    }\n",
       "\n",
       "    .dataframe tbody tr th {\n",
       "        vertical-align: top;\n",
       "    }\n",
       "\n",
       "    .dataframe thead th {\n",
       "        text-align: right;\n",
       "    }\n",
       "</style>\n",
       "<table border=\"1\" class=\"dataframe\">\n",
       "  <thead>\n",
       "    <tr style=\"text-align: right;\">\n",
       "      <th></th>\n",
       "      <th>Account Balance</th>\n",
       "      <th>Rent per period</th>\n",
       "      <th>Gas</th>\n",
       "      <th>Food per period</th>\n",
       "      <th>Subscriptions per week</th>\n",
       "      <th>Entertainment per period</th>\n",
       "      <th>Savings percent</th>\n",
       "      <th>Emergency Fund</th>\n",
       "      <th>Business Invest</th>\n",
       "      <th>Retirement Allocation</th>\n",
       "      <th>Stocks invest</th>\n",
       "      <th>Personal Spending</th>\n",
       "    </tr>\n",
       "  </thead>\n",
       "  <tbody>\n",
       "    <tr>\n",
       "      <th>0</th>\n",
       "      <td>700</td>\n",
       "      <td>450.0</td>\n",
       "      <td>40</td>\n",
       "      <td>175.0</td>\n",
       "      <td>37.0</td>\n",
       "      <td>50</td>\n",
       "      <td>0.1</td>\n",
       "      <td>500</td>\n",
       "      <td>0.3</td>\n",
       "      <td>0.05</td>\n",
       "      <td>0.5</td>\n",
       "      <td>0.05</td>\n",
       "    </tr>\n",
       "  </tbody>\n",
       "</table>\n",
       "</div>"
      ],
      "text/plain": [
       "  Account Balance  Rent per period  Gas  Food per period  \\\n",
       "0             700            450.0   40            175.0   \n",
       "\n",
       "   Subscriptions per week  Entertainment per period  Savings percent  \\\n",
       "0                    37.0                        50              0.1   \n",
       "\n",
       "   Emergency Fund  Business Invest  Retirement Allocation  Stocks invest  \\\n",
       "0             500              0.3                   0.05            0.5   \n",
       "\n",
       "   Personal Spending  \n",
       "0               0.05  "
      ]
     },
     "execution_count": 51,
     "metadata": {},
     "output_type": "execute_result"
    }
   ],
   "source": [
    "budget = pd.DataFrame({\n",
    "    \"Account Balance\": [account],\n",
    "    \"Rent per period\":[rent_per_week],\n",
    "    \"Gas\":[gas],\n",
    "    \"Food per period\": [s_p_weekly],\n",
    "    \"Subscriptions per week\":[cost_exp],\n",
    "    \"Entertainment per period\": [entertainment],\n",
    "    \"Savings percent\":savings,\n",
    "    \"Emergency Fund\": emergency_fund,\n",
    "    \"Business Invest\": bus_invest,\n",
    "    \"Retirement Allocation\": amount_retire,\n",
    "    \"Stocks invest\": investments,\n",
    "    \"Personal Spending\": personal\n",
    "    \n",
    "    \n",
    "})\n",
    "\n",
    "budget"
   ]
  },
  {
   "cell_type": "code",
   "execution_count": 54,
   "id": "aba8f270",
   "metadata": {},
   "outputs": [],
   "source": [
    "budget.to_csv(\"budget.csv\", index=False)"
   ]
  }
 ],
 "metadata": {
  "kernelspec": {
   "display_name": "PythonData",
   "language": "python",
   "name": "pythondata"
  },
  "language_info": {
   "codemirror_mode": {
    "name": "ipython",
    "version": 3
   },
   "file_extension": ".py",
   "mimetype": "text/x-python",
   "name": "python",
   "nbconvert_exporter": "python",
   "pygments_lexer": "ipython3",
   "version": "3.9.7"
  }
 },
 "nbformat": 4,
 "nbformat_minor": 5
}
