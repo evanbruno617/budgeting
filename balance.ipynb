{
 "cells": [
  {
   "cell_type": "code",
   "execution_count": 1,
   "id": "37e721eb",
   "metadata": {},
   "outputs": [],
   "source": [
    "import pandas as pd"
   ]
  },
  {
   "cell_type": "code",
   "execution_count": 5,
   "id": "50dfc6d5",
   "metadata": {},
   "outputs": [
    {
     "data": {
      "text/html": [
       "<div>\n",
       "<style scoped>\n",
       "    .dataframe tbody tr th:only-of-type {\n",
       "        vertical-align: middle;\n",
       "    }\n",
       "\n",
       "    .dataframe tbody tr th {\n",
       "        vertical-align: top;\n",
       "    }\n",
       "\n",
       "    .dataframe thead th {\n",
       "        text-align: right;\n",
       "    }\n",
       "</style>\n",
       "<table border=\"1\" class=\"dataframe\">\n",
       "  <thead>\n",
       "    <tr style=\"text-align: right;\">\n",
       "      <th></th>\n",
       "      <th>Unnamed: 0</th>\n",
       "      <th>Savings</th>\n",
       "      <th>Personal</th>\n",
       "      <th>Entertainment</th>\n",
       "      <th>Food</th>\n",
       "      <th>Rent</th>\n",
       "      <th>Emergency</th>\n",
       "      <th>Subscriptions</th>\n",
       "      <th>Business</th>\n",
       "      <th>Account</th>\n",
       "    </tr>\n",
       "  </thead>\n",
       "  <tbody>\n",
       "    <tr>\n",
       "      <th>0</th>\n",
       "      <td>0</td>\n",
       "      <td>-55.2</td>\n",
       "      <td>-27.6</td>\n",
       "      <td>50</td>\n",
       "      <td>175</td>\n",
       "      <td>450</td>\n",
       "      <td>500</td>\n",
       "      <td>37.5</td>\n",
       "      <td>-165.6</td>\n",
       "      <td>503.6</td>\n",
       "    </tr>\n",
       "  </tbody>\n",
       "</table>\n",
       "</div>"
      ],
      "text/plain": [
       "   Unnamed: 0  Savings  Personal  Entertainment  Food  Rent  Emergency  \\\n",
       "0           0    -55.2     -27.6             50   175   450        500   \n",
       "\n",
       "   Subscriptions  Business  Account  \n",
       "0           37.5    -165.6    503.6  "
      ]
     },
     "execution_count": 5,
     "metadata": {},
     "output_type": "execute_result"
    }
   ],
   "source": [
    "balance = pd.read_csv(\"Balance.csv\")\n",
    "balance"
   ]
  },
  {
   "cell_type": "code",
   "execution_count": null,
   "id": "544285d6",
   "metadata": {},
   "outputs": [],
   "source": [
    "deduct = input(\"The name of category to subtract form\")\n",
    "amount = input(\"What is the amount?\")"
   ]
  },
  {
   "cell_type": "code",
   "execution_count": null,
   "id": "381cf8dd",
   "metadata": {},
   "outputs": [],
   "source": [
    "amount = int(amount)\n",
    "total = balance[deduct] - amount"
   ]
  },
  {
   "cell_type": "code",
   "execution_count": null,
   "id": "b88848ee",
   "metadata": {},
   "outputs": [],
   "source": [
    "if total < 0:\n",
    "    balance[deduct] = 0"
   ]
  },
  {
   "cell_type": "code",
   "execution_count": null,
   "id": "a663397b",
   "metadata": {},
   "outputs": [],
   "source": [
    "while total < 0:\n",
    "    name = input(\"You have negative funds for necessities. Which other category would you like to withdraw from?\")\n",
    "    cost = total\n",
    "    total = balance[name] + total"
   ]
  },
  {
   "cell_type": "code",
   "execution_count": null,
   "id": "b1aeeec8",
   "metadata": {},
   "outputs": [],
   "source": [
    "balance[name] = balance[name - cost]"
   ]
  },
  {
   "cell_type": "code",
   "execution_count": null,
   "id": "31b86da0",
   "metadata": {},
   "outputs": [],
   "source": [
    "balances.to_csv(\"Balance.csv\")"
   ]
  }
 ],
 "metadata": {
  "kernelspec": {
   "display_name": "PythonData",
   "language": "python",
   "name": "pythondata"
  },
  "language_info": {
   "codemirror_mode": {
    "name": "ipython",
    "version": 3
   },
   "file_extension": ".py",
   "mimetype": "text/x-python",
   "name": "python",
   "nbconvert_exporter": "python",
   "pygments_lexer": "ipython3",
   "version": "3.9.7"
  }
 },
 "nbformat": 4,
 "nbformat_minor": 5
}
