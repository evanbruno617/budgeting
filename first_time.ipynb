{
 "cells": [
  {
   "cell_type": "code",
   "execution_count": 1,
   "id": "9494f106",
   "metadata": {},
   "outputs": [],
   "source": [
    "import pandas as pd"
   ]
  },
  {
   "cell_type": "code",
   "execution_count": 31,
   "id": "f70393db",
   "metadata": {},
   "outputs": [
    {
     "name": "stdout",
     "output_type": "stream",
     "text": [
      "What is your name?Evan\n",
      "What is your total balance of your bank account?738\n",
      "What is your income per pay period550\n",
      "What is your rent (Including Utilities)900\n",
      "How much do you spend on Gas per week20\n",
      "How often do you get paid? For weekly input '1' for biweekly input '2'2\n",
      "How much do you spend a month on supplies and food?300\n",
      "How much do you want to spend on going out and entertainment per week?25\n",
      "How much do you spend on other fixed expenses (Subscriptions)? Seperate your answer with commas with the following notation NO SPACES when describing the cost ex'AppleMusic 10, ... $$, ... $$'AppleMusic 10,Trading 50,Excel 7,Wall 7\n",
      "Do you want to start investing in retirement? (YES/NO)NO\n",
      "How much do you want to allocate to investments (Stocks, Bonds, etc) per week? % If not sure answer with 'Not sure'45\n",
      "Do you have any business ventures you need to fund? (YES/NO)YES\n",
      "Other Sources of money per month0\n"
     ]
    }
   ],
   "source": [
    "name = input(\"What is your name?\")\n",
    "account = input(\"What is your total balance of your bank account?\")\n",
    "income = input(\"What is your income per pay period\")\n",
    "rent = input(\"What is your rent (Including Utilities)\")\n",
    "gas = input(\"How much do you spend on Gas per week\")\n",
    "pay_period = input(\"How often do you get paid? For weekly input '1' for biweekly input '2'\")\n",
    "supply_food = input(\"How much do you spend a month on supplies and food?\")\n",
    "etc = input(\"How much do you want to spend on going out and entertainment per week?\")\n",
    "other_exp = input(\"How much do you spend on other fixed expenses (Subscriptions)? Seperate your answer with commas with the following notation NO SPACES when describing the cost ex'AppleMusic 10, ... $$, ... $$'\")\n",
    "retirement = input(\"Do you want to start investing in retirement? (YES/NO)\")\n",
    "investments = input(\"How much do you want to allocate to investments (Stocks, Bonds, etc) per week? % If not sure answer with 'Not sure'\")\n",
    "business = input(\"Do you have any business ventures you need to fund? (YES/NO)\")\n",
    "other_money = input(\"Other Sources of money per month\")"
   ]
  },
  {
   "cell_type": "code",
   "execution_count": 32,
   "id": "1df7e6ce",
   "metadata": {},
   "outputs": [],
   "source": [
    "\n",
    "period = int(pay_period)\n",
    "\n",
    "if period == 1:\n",
    "    period = 4\n",
    "\n",
    "weekly_income = int(income)\n",
    "rent_per_week = int(rent) / period\n",
    "gas = int(gas) * period\n",
    "s_p_weekly = int(supply_food) / period\n",
    "entertainment = int(etc) * period\n",
    "other_money = int(other_money) / period\n",
    "\n",
    "exp = []\n",
    "other_expenses = {}\n",
    "for i in other_exp.split(\",\"):\n",
    "    cost = i.split(\" \")\n",
    "    other_expenses[cost[0]] = cost[1]\n",
    "    exp.append(cost[1]) \n",
    "    \n",
    "cost_exp = 0\n",
    "for i in range(len(exp)):\n",
    "    cost_exp = cost_exp + int(exp[i])\n",
    "cost_exp = cost_exp / period"
   ]
  },
  {
   "cell_type": "code",
   "execution_count": 33,
   "id": "af19a604",
   "metadata": {},
   "outputs": [
    {
     "name": "stdout",
     "output_type": "stream",
     "text": [
      "You spend 37.0 on monthly Payments/Subscriptions\n"
     ]
    }
   ],
   "source": [
    "print(f\"You spend {cost_exp} on monthly Payments/Subscriptions\")"
   ]
  },
  {
   "cell_type": "code",
   "execution_count": 35,
   "id": "4cf2cc9a",
   "metadata": {},
   "outputs": [],
   "source": [
    "total_need = 323"
   ]
  },
  {
   "cell_type": "code",
   "execution_count": 34,
   "id": "44d549c9",
   "metadata": {},
   "outputs": [
    {
     "name": "stdout",
     "output_type": "stream",
     "text": [
      "After paying for essential items you are left with -127.0$ for the next 2 week(s)\n"
     ]
    }
   ],
   "source": [
    "essentials = rent_per_week + gas + s_p_weekly + cost_exp\n",
    "total_need = weekly_income + other_money - (essentials)\n",
    "\n",
    "print(f\"After paying for essential items you are left with {total_need}$ for the next {period} week(s)\")"
   ]
  },
  {
   "cell_type": "code",
   "execution_count": 36,
   "id": "e25a7bfc",
   "metadata": {},
   "outputs": [
    {
     "name": "stdout",
     "output_type": "stream",
     "text": [
      "How much do you want to have for your emergency Fund?500\n"
     ]
    }
   ],
   "source": [
    "emergency = input(\"How much do you want to have for your emergency Fund?\")\n",
    "\n",
    "emergency_allocation = input(\"How much of your spare money per week do you want to allocate to it %\")\n",
    "\n",
    "save = input(\"Are you looking to save for anything? (YES/NO)\")\n",
    "\n",
    "if retirement == \"YES\":\n",
    "    amount_retire = input(\"How much of your spare money do you want to contribute to retiring? Answer in %\")\n",
    "if business == \"YES\":\n",
    "    bus_invest = input(\"How much of your spare money do you want to contribute to Investing into your business? Answer in %\")\n",
    "personal = input(\"How much of your spare money do you want to contribute to spend splurging on yourself?\")\n",
    "\n",
    "investments = input(\"How much do you want to allocate to investments (Stocks, Bonds, etc) per week? %\")\n",
    "                    \n",
    "                    \n",
    "if save == \"YES\":\n",
    "    save_for = input(\"State what you want to save for then seperate with : and then state the timeframe in weeks and seperate with : and then state the dollar amount and seperate each item with ,\")\n"
   ]
  },
  {
   "cell_type": "code",
   "execution_count": null,
   "id": "ea86092e",
   "metadata": {},
   "outputs": [],
   "source": []
  }
 ],
 "metadata": {
  "kernelspec": {
   "display_name": "PythonData",
   "language": "python",
   "name": "pythondata"
  },
  "language_info": {
   "codemirror_mode": {
    "name": "ipython",
    "version": 3
   },
   "file_extension": ".py",
   "mimetype": "text/x-python",
   "name": "python",
   "nbconvert_exporter": "python",
   "pygments_lexer": "ipython3",
   "version": "3.9.7"
  }
 },
 "nbformat": 4,
 "nbformat_minor": 5
}
