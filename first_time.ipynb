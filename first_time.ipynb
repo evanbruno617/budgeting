{
 "cells": [
  {
   "cell_type": "code",
   "execution_count": 2,
   "id": "9494f106",
   "metadata": {},
   "outputs": [],
   "source": [
    "import pandas as pd"
   ]
  },
  {
   "cell_type": "code",
   "execution_count": 11,
   "id": "d2196812",
   "metadata": {},
   "outputs": [
    {
     "name": "stdout",
     "output_type": "stream",
     "text": [
      "What is your income for this pay period?200\n",
      "What other money did you recieve?0\n",
      "Is there anything you want to save for? (Y/N)N\n",
      "What is the date? MM/DD/YYYY08/28/2022\n"
     ]
    }
   ],
   "source": [
    "income = input(\"What is your income for this pay period?\")\n",
    "other = input(\"What other money did you recieve?\")\n",
    "save = input(\"Is there anything you want to save for? (Y/N)\")\n",
    "date = input(\"What is the date? MM/DD/YYYY\")\n"
   ]
  },
  {
   "cell_type": "code",
   "execution_count": 6,
   "id": "685a78f0",
   "metadata": {},
   "outputs": [
    {
     "data": {
      "text/html": [
       "<div>\n",
       "<style scoped>\n",
       "    .dataframe tbody tr th:only-of-type {\n",
       "        vertical-align: middle;\n",
       "    }\n",
       "\n",
       "    .dataframe tbody tr th {\n",
       "        vertical-align: top;\n",
       "    }\n",
       "\n",
       "    .dataframe thead th {\n",
       "        text-align: right;\n",
       "    }\n",
       "</style>\n",
       "<table border=\"1\" class=\"dataframe\">\n",
       "  <thead>\n",
       "    <tr style=\"text-align: right;\">\n",
       "      <th></th>\n",
       "      <th>Account Balance</th>\n",
       "      <th>Rent per period</th>\n",
       "      <th>Gas</th>\n",
       "      <th>Food per period</th>\n",
       "      <th>Subscriptions per week</th>\n",
       "      <th>Entertainment per period</th>\n",
       "      <th>Savings percent</th>\n",
       "      <th>Emergency Fund</th>\n",
       "      <th>Business Invest</th>\n",
       "      <th>Retirement Allocation</th>\n",
       "      <th>Stocks invest</th>\n",
       "      <th>Personal Spending</th>\n",
       "    </tr>\n",
       "  </thead>\n",
       "  <tbody>\n",
       "    <tr>\n",
       "      <th>0</th>\n",
       "      <td>700</td>\n",
       "      <td>450.0</td>\n",
       "      <td>40</td>\n",
       "      <td>175.0</td>\n",
       "      <td>37.0</td>\n",
       "      <td>50</td>\n",
       "      <td>0.1</td>\n",
       "      <td>500</td>\n",
       "      <td>0.3</td>\n",
       "      <td>0.05</td>\n",
       "      <td>0.5</td>\n",
       "      <td>0.05</td>\n",
       "    </tr>\n",
       "  </tbody>\n",
       "</table>\n",
       "</div>"
      ],
      "text/plain": [
       "   Account Balance  Rent per period  Gas  Food per period  \\\n",
       "0              700            450.0   40            175.0   \n",
       "\n",
       "   Subscriptions per week  Entertainment per period  Savings percent  \\\n",
       "0                    37.0                        50              0.1   \n",
       "\n",
       "   Emergency Fund  Business Invest  Retirement Allocation  Stocks invest  \\\n",
       "0             500              0.3                   0.05            0.5   \n",
       "\n",
       "   Personal Spending  \n",
       "0               0.05  "
      ]
     },
     "execution_count": 6,
     "metadata": {},
     "output_type": "execute_result"
    }
   ],
   "source": [
    "budget = pd.read_csv(\"budget.csv\")\n",
    "budget"
   ]
  },
  {
   "cell_type": "code",
   "execution_count": 13,
   "id": "0ce8de65",
   "metadata": {},
   "outputs": [],
   "source": [
    "income = int(income)\n",
    "other = int(other)"
   ]
  },
  {
   "cell_type": "code",
   "execution_count": 10,
   "id": "514030f0",
   "metadata": {},
   "outputs": [
    {
     "data": {
      "text/plain": [
       "700"
      ]
     },
     "execution_count": 10,
     "metadata": {},
     "output_type": "execute_result"
    }
   ],
   "source": [
    "budget[\"Account Balance\"][0]"
   ]
  },
  {
   "cell_type": "code",
   "execution_count": 15,
   "id": "af19a604",
   "metadata": {},
   "outputs": [
    {
     "data": {
      "text/plain": [
       "-552.0"
      ]
     },
     "execution_count": 15,
     "metadata": {},
     "output_type": "execute_result"
    }
   ],
   "source": [
    "total = income + other - (budget[\"Rent per period\"][0] + budget[\"Gas\"][0] + budget[\"Food per period\"][0] + budget[\"Subscriptions per week\"][0] + budget[\"Entertainment per period\"][0])\n",
    "\n",
    "total\n",
    "\n",
    "\n"
   ]
  },
  {
   "cell_type": "code",
   "execution_count": null,
   "id": "9146f9cf",
   "metadata": {},
   "outputs": [],
   "source": [
    "if total < 0:\n",
    "    print(\"You have insufficient funds to cover these costs. Please go over your budget again.\")"
   ]
  },
  {
   "cell_type": "code",
   "execution_count": 17,
   "id": "4cf2cc9a",
   "metadata": {},
   "outputs": [],
   "source": [
    "invest = total * budget[\"Stocks invest\"][0]\n",
    "retire = total * budget[\"Retirement Allocation\"][0]\n",
    "personal = total * budget[\"Personal Spending\"][0]\n",
    "bus = total * budget[\"Business Invest\"][0]\n",
    "save = total * budget[\"Savings percent\"][0]"
   ]
  },
  {
   "cell_type": "code",
   "execution_count": 18,
   "id": "ea86092e",
   "metadata": {},
   "outputs": [
    {
     "data": {
      "text/plain": [
       "-55.2"
      ]
     },
     "execution_count": 18,
     "metadata": {},
     "output_type": "execute_result"
    }
   ],
   "source": [
    "save"
   ]
  },
  {
   "cell_type": "code",
   "execution_count": 19,
   "id": "f76fbc0c",
   "metadata": {},
   "outputs": [],
   "source": [
    "account = income + other - invest - retire"
   ]
  },
  {
   "cell_type": "code",
   "execution_count": 22,
   "id": "49a9dd97",
   "metadata": {},
   "outputs": [],
   "source": [
    "balances = pd.DataFrame({\n",
    "    \"Savings\" : [save],\n",
    "    \"Personal\" : [personal],\n",
    "    \"Entertainment\" : [50],\n",
    "    \"Food\": [175],\n",
    "    \"Rent\": [450],\n",
    "    \"Emergency\": [500],\n",
    "    \"Subscriptions\": [37.5],\n",
    "    \"Business\": [bus],\n",
    "    \"Account\": [account]\n",
    "    \n",
    "})"
   ]
  },
  {
   "cell_type": "code",
   "execution_count": 23,
   "id": "f6fc2fe7",
   "metadata": {},
   "outputs": [],
   "source": [
    "balances.to_csv(\"Balance.csv\")"
   ]
  }
 ],
 "metadata": {
  "kernelspec": {
   "display_name": "PythonData",
   "language": "python",
   "name": "pythondata"
  },
  "language_info": {
   "codemirror_mode": {
    "name": "ipython",
    "version": 3
   },
   "file_extension": ".py",
   "mimetype": "text/x-python",
   "name": "python",
   "nbconvert_exporter": "python",
   "pygments_lexer": "ipython3",
   "version": "3.9.7"
  }
 },
 "nbformat": 4,
 "nbformat_minor": 5
}
